{
  "nbformat": 4,
  "nbformat_minor": 0,
  "metadata": {
    "colab": {
      "provenance": [],
      "collapsed_sections": [
        "FJpJ20fqksJK",
        "N5mFPUBwlYnZ",
        "8HvBbVvelweZ",
        "oTpOk6Qzl8iL",
        "vejH0yngmRFp",
        "jPYpdK6Uk7t3",
        "jkxn2HLWlH_y",
        "5-oL1ohZlMIR",
        "j5sFPkKrlMTq"
      ],
      "toc_visible": true,
      "authorship_tag": "ABX9TyN6A7zm3c1omc9T/7iT6oHG",
      "include_colab_link": true
    },
    "kernelspec": {
      "name": "python3",
      "display_name": "Python 3"
    },
    "language_info": {
      "name": "python"
    }
  },
  "cells": [
    {
      "cell_type": "markdown",
      "metadata": {
        "id": "view-in-github",
        "colab_type": "text"
      },
      "source": [
        "<a href=\"https://colab.research.google.com/github/jleon253/computacion-cuantica/blob/main/Parcial3_JohnLeon.ipynb\" target=\"_parent\"><img src=\"https://colab.research.google.com/assets/colab-badge.svg\" alt=\"Open In Colab\"/></a>"
      ]
    },
    {
      "cell_type": "markdown",
      "source": [
        "#Información personal"
      ],
      "metadata": {
        "id": "FJpJ20fqksJK"
      }
    },
    {
      "cell_type": "code",
      "source": [
        "__author__    = \"John Edward León Muñoz\"\n",
        "__credits__   = [\"John Edward León Muñoz\"]\n",
        "__copyright_amp__ = \"(c) John Edward León Muñoz\"\n",
        "__code__ = \"20212678013\"\n",
        "__email__   = \"jeleonm@correo.udistrital.edu.co\""
      ],
      "metadata": {
        "id": "VKJ8HS0Ak3Tw"
      },
      "execution_count": null,
      "outputs": []
    },
    {
      "cell_type": "markdown",
      "source": [
        "# Instalación previa"
      ],
      "metadata": {
        "id": "N5mFPUBwlYnZ"
      }
    },
    {
      "cell_type": "markdown",
      "source": [
        "## Qiskit packet"
      ],
      "metadata": {
        "id": "8HvBbVvelweZ"
      }
    },
    {
      "cell_type": "code",
      "source": [
        "!pip install git+https://github.com/qiskit-community/qiskit-textbook.git#subdirectory=qiskit-textbook-src"
      ],
      "metadata": {
        "id": "db7FMO6mli-C"
      },
      "execution_count": null,
      "outputs": []
    },
    {
      "cell_type": "markdown",
      "source": [
        "## Imports"
      ],
      "metadata": {
        "id": "oTpOk6Qzl8iL"
      }
    },
    {
      "cell_type": "code",
      "source": [
        "from qiskit import QuantumCircuit, assemble, Aer\n",
        "from qiskit.quantum_info import Statevector\n",
        "from qiskit.visualization import array_to_latex"
      ],
      "metadata": {
        "id": "Zy7QO-wVlkkS"
      },
      "execution_count": null,
      "outputs": []
    },
    {
      "cell_type": "markdown",
      "source": [
        "## Metodos utilitarios"
      ],
      "metadata": {
        "id": "vejH0yngmRFp"
      }
    },
    {
      "cell_type": "code",
      "source": [
        "def PrintStateVector(qc):\n",
        "  svsim = Aer.get_backend('aer_simulator')\n",
        "  qc.save_statevector()\n",
        "  qobj = assemble(qc)\n",
        "  final_state = svsim.run(qobj).result().get_statevector()\n",
        "  return final_state\n",
        "\n",
        "def PrintUnitaryVector(qc):\n",
        "  usim = Aer.get_backend('aer_simulator')\n",
        "  qc.save_unitary()\n",
        "  qobj = assemble(qc)\n",
        "  unitary = usim.run(qobj).result().get_unitary()\n",
        "  return unitary"
      ],
      "metadata": {
        "id": "Ezk78IptmYR6"
      },
      "execution_count": null,
      "outputs": []
    },
    {
      "cell_type": "markdown",
      "source": [
        "# Desarrollo Parcial 3"
      ],
      "metadata": {
        "id": "jPYpdK6Uk7t3"
      }
    },
    {
      "cell_type": "markdown",
      "source": [
        "## Punto 1"
      ],
      "metadata": {
        "id": "jkxn2HLWlH_y"
      }
    },
    {
      "cell_type": "markdown",
      "source": [
        "Calcule el único qubit unitario ($U$) creado por la secuencia de puertas: $U = XZH$. Utilice el simulador Aer de Qiskit para comprobar sus resultados. Pegue abajo en link al notebook correspondiente o el código correspondiente a su respuesta."
      ],
      "metadata": {
        "id": "LiRtHvEClRTS"
      }
    },
    {
      "cell_type": "code",
      "source": [
        "qcP1 = QuantumCircuit(1)\n",
        "\n",
        "qcP1.x(0)\n",
        "qcP1.z(0)\n",
        "qcP1.h(0)\n",
        "\n",
        "qcP1.draw()"
      ],
      "metadata": {
        "colab": {
          "base_uri": "https://localhost:8080/",
          "height": 63
        },
        "id": "YyCEuZcYmJI6",
        "outputId": "0fc6cf9e-b369-4a1f-ebeb-2ed2d6e01dfd"
      },
      "execution_count": null,
      "outputs": [
        {
          "output_type": "execute_result",
          "data": {
            "text/plain": [
              "   ┌───┐┌───┐┌───┐\n",
              "q: ┤ X ├┤ Z ├┤ H ├\n",
              "   └───┘└───┘└───┘"
            ],
            "text/html": [
              "<pre style=\"word-wrap: normal;white-space: pre;background: #fff0;line-height: 1.1;font-family: &quot;Courier New&quot;,Courier,monospace\">   ┌───┐┌───┐┌───┐\n",
              "q: ┤ X ├┤ Z ├┤ H ├\n",
              "   └───┘└───┘└───┘</pre>"
            ]
          },
          "metadata": {},
          "execution_count": 5
        }
      ]
    },
    {
      "cell_type": "code",
      "source": [
        "array_to_latex(PrintStateVector(qcP1), prefix=\"\\\\text{Statevector} = \")"
      ],
      "metadata": {
        "colab": {
          "base_uri": "https://localhost:8080/",
          "height": 47
        },
        "id": "b2jxPun0mNCR",
        "outputId": "a12f90a3-5567-4a26-b584-1deb76a8e6a0"
      },
      "execution_count": null,
      "outputs": [
        {
          "output_type": "execute_result",
          "data": {
            "text/plain": [
              "<IPython.core.display.Latex object>"
            ],
            "text/latex": "$$\n\\text{Statevector} = \n\\begin{bmatrix}\n-\\tfrac{1}{\\sqrt{2}} & \\tfrac{1}{\\sqrt{2}}  \\\\\n \\end{bmatrix}\n$$"
          },
          "metadata": {},
          "execution_count": 6
        }
      ]
    },
    {
      "cell_type": "markdown",
      "source": [
        "## Punto 2"
      ],
      "metadata": {
        "id": "5-oL1ohZlMIR"
      }
    },
    {
      "cell_type": "markdown",
      "source": [
        "Cree un circuito cuántico que produzca el estado Bell:$\\tfrac{1}{\\sqrt{2}}(|01\\rangle + |10\\rangle)$\n",
        "    Utilice el simulador de vector de estado para verificar su resultado. Pegue abajo en link al notebook correspondiente o el código correspondiente a su respuesta."
      ],
      "metadata": {
        "id": "nm5XlniqmjXC"
      }
    },
    {
      "cell_type": "code",
      "source": [
        "qcP2 = QuantumCircuit(2)\n",
        "\n",
        "qcP2.x(0)\n",
        "qcP2.h(1)\n",
        "qcP2.cx(1,0)\n",
        "\n",
        "qcP2.draw()"
      ],
      "metadata": {
        "colab": {
          "base_uri": "https://localhost:8080/",
          "height": 94
        },
        "id": "6l7Gs5UEmoxf",
        "outputId": "b18e6ea8-2ee5-47c8-ebee-0a8422c44f86"
      },
      "execution_count": null,
      "outputs": [
        {
          "output_type": "execute_result",
          "data": {
            "text/plain": [
              "     ┌───┐┌───┐\n",
              "q_0: ┤ X ├┤ X ├\n",
              "     ├───┤└─┬─┘\n",
              "q_1: ┤ H ├──■──\n",
              "     └───┘     "
            ],
            "text/html": [
              "<pre style=\"word-wrap: normal;white-space: pre;background: #fff0;line-height: 1.1;font-family: &quot;Courier New&quot;,Courier,monospace\">     ┌───┐┌───┐\n",
              "q_0: ┤ X ├┤ X ├\n",
              "     ├───┤└─┬─┘\n",
              "q_1: ┤ H ├──■──\n",
              "     └───┘     </pre>"
            ]
          },
          "metadata": {},
          "execution_count": 7
        }
      ]
    },
    {
      "cell_type": "code",
      "source": [
        "array_to_latex(PrintStateVector(qcP2), prefix=\"\\\\text{Statevector} = \")"
      ],
      "metadata": {
        "colab": {
          "base_uri": "https://localhost:8080/",
          "height": 47
        },
        "id": "X81zIgVnmpej",
        "outputId": "4b56ba2e-144b-47f8-e9dc-55b0720f3067"
      },
      "execution_count": null,
      "outputs": [
        {
          "output_type": "execute_result",
          "data": {
            "text/plain": [
              "<IPython.core.display.Latex object>"
            ],
            "text/latex": "$$\n\\text{Statevector} = \n\\begin{bmatrix}\n0 & \\tfrac{1}{\\sqrt{2}} & \\tfrac{1}{\\sqrt{2}} & 0  \\\\\n \\end{bmatrix}\n$$"
          },
          "metadata": {},
          "execution_count": 8
        }
      ]
    },
    {
      "cell_type": "markdown",
      "source": [
        "## Punto 3"
      ],
      "metadata": {
        "id": "j5sFPkKrlMTq"
      }
    },
    {
      "cell_type": "markdown",
      "source": [
        "El circuito que creaste en la pregunta anterior transforma el estado $|00\\rangle$ a $\\tfrac{1}{\\sqrt{2}}(|01\\rangle + |10\\rangle)$, calcula la unidad unitaria de este circuito usando Simulador de Qiskit. Verifique que este unitario de hecho realice la transformación correcta. Pegue abajo en link al notebook correspondiente o el código correspondiente a su respuesta."
      ],
      "metadata": {
        "id": "yOlmIy3JmtzB"
      }
    },
    {
      "cell_type": "code",
      "source": [
        "qcP3 = QuantumCircuit(2)\n",
        "\n",
        "qcP3.x(0)\n",
        "qcP3.h(1)\n",
        "qcP3.cx(1,0)\n",
        "\n",
        "qcP3.draw()"
      ],
      "metadata": {
        "colab": {
          "base_uri": "https://localhost:8080/",
          "height": 94
        },
        "id": "kgYCf0AYm4Lq",
        "outputId": "3cbe6bd9-d118-41c5-b7f9-a8dd511ac42e"
      },
      "execution_count": null,
      "outputs": [
        {
          "output_type": "execute_result",
          "data": {
            "text/plain": [
              "     ┌───┐┌───┐\n",
              "q_0: ┤ X ├┤ X ├\n",
              "     ├───┤└─┬─┘\n",
              "q_1: ┤ H ├──■──\n",
              "     └───┘     "
            ],
            "text/html": [
              "<pre style=\"word-wrap: normal;white-space: pre;background: #fff0;line-height: 1.1;font-family: &quot;Courier New&quot;,Courier,monospace\">     ┌───┐┌───┐\n",
              "q_0: ┤ X ├┤ X ├\n",
              "     ├───┤└─┬─┘\n",
              "q_1: ┤ H ├──■──\n",
              "     └───┘     </pre>"
            ]
          },
          "metadata": {},
          "execution_count": 10
        }
      ]
    },
    {
      "cell_type": "code",
      "source": [
        "array_to_latex(PrintUnitaryVector(qcP3), prefix=\"\\\\text{Circuit = }\\n\")"
      ],
      "metadata": {
        "colab": {
          "base_uri": "https://localhost:8080/",
          "height": 111
        },
        "id": "5p7x18bKm0NB",
        "outputId": "0a05cb6d-6795-4089-865a-1766c3bea80f"
      },
      "execution_count": null,
      "outputs": [
        {
          "output_type": "execute_result",
          "data": {
            "text/plain": [
              "<IPython.core.display.Latex object>"
            ],
            "text/latex": "$$\n\\text{Circuit = }\n\n\\begin{bmatrix}\n0 & \\tfrac{1}{\\sqrt{2}} & 0 & \\tfrac{1}{\\sqrt{2}}  \\\\\n \\tfrac{1}{\\sqrt{2}} & 0 & \\tfrac{1}{\\sqrt{2}} & 0  \\\\\n \\tfrac{1}{\\sqrt{2}} & 0 & -\\tfrac{1}{\\sqrt{2}} & 0  \\\\\n 0 & \\tfrac{1}{\\sqrt{2}} & 0 & -\\tfrac{1}{\\sqrt{2}}  \\\\\n \\end{bmatrix}\n$$"
          },
          "metadata": {},
          "execution_count": 11
        }
      ]
    }
  ]
}